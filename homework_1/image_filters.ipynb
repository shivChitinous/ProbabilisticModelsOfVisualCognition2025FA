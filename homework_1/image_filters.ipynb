{
 "cells": [
  {
   "attachments": {},
   "cell_type": "markdown",
   "metadata": {},
   "source": [
    "# Image filters\n",
    "\n",
    "Original notebook by Weichao Qiu, modified by Donald Li, Chenxi Liu, Hongru Zhu, and Raj Magesh Gauthaman, Tiezheng Zhang."
   ]
  },
  {
   "cell_type": "markdown",
   "metadata": {},
   "source": [
    "## Initialization"
   ]
  },
  {
   "cell_type": "code",
   "execution_count": null,
   "metadata": {},
   "outputs": [],
   "source": [
    "from __future__ import annotations\n",
    "from collections.abc import Callable, Collection, Iterable\n",
    "import itertools\n",
    "import pickle\n",
    "\n",
    "import numpy as np\n",
    "from scipy.signal import convolve2d\n",
    "import matplotlib as mpl\n",
    "import matplotlib.pyplot as plt\n",
    "from mpl_toolkits.mplot3d import Axes3D\n",
    "from skimage.color import rgb2gray\n",
    "\n",
    "%matplotlib inline\n",
    "\n",
    "\n",
    "def plot_image(image: np.ndarray, **kwargs) -> mpl.figure.Figure:\n",
    "    \"\"\"Utility function to plot an image.\n",
    "\n",
    "    Args:\n",
    "        image: a 2-D numpy array\n",
    "    \"\"\"\n",
    "    fig = plt.figure()\n",
    "    plt.axis('off')\n",
    "    plt.imshow(image, cmap=plt.gray(), **kwargs)\n",
    "    return fig\n",
    "\n",
    "\n",
    "def surf(X, Y, Z, **kwargs): \n",
    "    \"\"\"Plot 3D data as surface, similar to surf(X,Y,Z) of http://www.mathworks.com/help/matlab/ref/surf.html\"\"\"\n",
    "    fig = plt.figure()\n",
    "    ax = fig.add_subplot(111, projection='3d')\n",
    "    ax.plot_surface(X, Y, Z, **kwargs)\n",
    "    return ax"
   ]
  },
  {
   "cell_type": "markdown",
   "metadata": {},
   "source": [
    "## Utilities"
   ]
  },
  {
   "cell_type": "markdown",
   "metadata": {},
   "source": [
    "### Create sinusoid stimuli\n",
    "\n",
    "A sinusoid stimulus $I(\\mathbf{x})$ is described by\n",
    "\n",
    "$I(\\mathbf{x}) = A \\cos(\\mathbf{\\omega} \\mathbf{x} + \\rho) $\n",
    "\n",
    "Here,\n",
    "\n",
    "- $A$ is the amplitude\n",
    "- $\\mathbf{\\omega}$ is the frequency\n",
    "- $\\rho$ is the phase\n"
   ]
  },
  {
   "cell_type": "code",
   "execution_count": null,
   "metadata": {},
   "outputs": [],
   "source": [
    "def create_sinusoid(\n",
    "    size: tuple[int, int] = (32, 32),\n",
    "    amplitude: float = 1,\n",
    "    frequency: tuple[float, float] = (np.cos(np.pi / 4), np.sin(np.pi / 4)),\n",
    "    phase: float = np.pi / 2\n",
    "):\n",
    "    \"\"\"Creates a 2D sinusoid.\n",
    "\n",
    "    Args:\n",
    "        size: size of the generated stimulus, defaults to (32, 32)\n",
    "        amplitude: amplitude of the sinusoid, defaults to 1\n",
    "        frequency: spatial frequencies in the horizontal and vertical directions, defaults to (np.cos(np.pi / 4), np.sin(np.pi / 4))\n",
    "        phase: phase, defaults to np.pi/2\n",
    "    \n",
    "    Returns:\n",
    "        2D sinusoid\n",
    "    \"\"\"\n",
    "    width, height = size\n",
    "    radius = (width // 2, height // 2)\n",
    "    [x, y] = np.meshgrid(range(-radius[0], radius[0] + 1), range(-radius[1], radius[1] + 1))\n",
    "\n",
    "    return amplitude * np.cos(frequency[0] * x + frequency[1] * y + phase)\n",
    "\n",
    "\n",
    "def plot_sinusoid():\n",
    "    stimulus = create_sinusoid()\n",
    "    fig = plot_image(stimulus)\n",
    "    fig.suptitle(\"sinusoid stimulus\")\n",
    "\n",
    "\n",
    "plot_sinusoid()"
   ]
  },
  {
   "cell_type": "markdown",
   "metadata": {},
   "source": [
    "### Create Gabor filters\n",
    "\n",
    "A [general Gabor filter](https://en.wikipedia.org/wiki/Gabor_filter) can be defined as\n",
    "\n",
    "$$ g(x,y;\\lambda,\\theta,\\psi,\\sigma,\\gamma) = \\exp\\left(-\\frac{x'^2+\\gamma^2y'^2}{2\\sigma^2}\\right)\\exp\\left(i\\left(2\\pi\\frac{x'}{\\lambda}+\\psi\\right)\\right) $$\n",
    "\n",
    "Here, we implement a Gabor filter that satisfies the neurophysiological constraints for simple cells:\n",
    "   \n",
    "$$ \\psi (x; \\omega, \\theta, K) = \\left[\\frac{\\omega^2}{ 4 \\pi K^2} \\exp  \\{-(\\omega^2/8K^2)[4(x\\cdot(\\cos\\theta, \\sin\\theta))^2 + (x \\cdot ( -\\sin \\theta, \\cos \\theta))^2]\\} \\right] \\times \\left[ \\exp \\{ iwx \\cdot (\\cos\\theta, \\sin\\theta) \\} \\exp(K^2/2) \\right] $$"
   ]
  },
  {
   "cell_type": "code",
   "execution_count": null,
   "metadata": {},
   "outputs": [],
   "source": [
    "def create_gabor(\n",
    "    size: tuple[int, int] = (256, 256),\n",
    "    omega: float = 0.3,\n",
    "    theta: float = np.pi / 4,\n",
    "    k: float = np.pi,\n",
    "    gabor_type: str = \"cosine\",\n",
    "):\n",
    "    \"\"\"Creates a 2D Gabor filter that obeys V1 simple cell constraints.\n",
    "\n",
    "    Args:\n",
    "        size: size of the generated stimulus, defaults to (256, 256)\n",
    "        omega: defaults to 0.3\n",
    "        theta: defaults to np.pi/4\n",
    "        k: defaults to np.pi\n",
    "        gabor_type: whether to generate a sine Gabor or a cosine Gabor, defaults to \"cosine\"\n",
    "    \n",
    "    Returns:\n",
    "        2D Gabor\n",
    "    \"\"\"\n",
    "    width, height = size\n",
    "    radius = (width // 2, height // 2)\n",
    "    [x, y] = np.meshgrid(range(-radius[0], radius[0] + 1), range(-radius[1], radius[1] + 1))\n",
    "\n",
    "    x1 = x * np.cos(theta) + y * np.sin(theta)\n",
    "    y1 = -x * np.sin(theta) + y * np.cos(theta)\n",
    "    \n",
    "    gaussian = (omega**2 / (4 * np.pi * k**2)) * np.exp(- omega**2 / (8 * k**2) * ( 4 * x1**2 + y1**2))\n",
    "    \n",
    "    if gabor_type == \"cosine\":\n",
    "        sinusoid = np.cos(omega * x1) * np.exp(k**2 / 2)\n",
    "    elif gabor_type == \"sine\":\n",
    "        sinusoid = np.sin(omega * x1) * np.exp(k**2 / 2)\n",
    "\n",
    "    gabor = gaussian * sinusoid\n",
    "    return gabor\n",
    "\n",
    "\n",
    "def plot_gabor_filters():\n",
    "    \"\"\"Plot sine and cosine Gabor filters\"\"\"\n",
    "    fig, axes = plt.subplots(nrows=1, ncols=2)\n",
    "    for gabor_type, ax in zip((\"sine\", \"cosine\"), axes.flat):\n",
    "        gabor = create_gabor(gabor_type=gabor_type)\n",
    "        ax.axis(\"off\")\n",
    "        ax.imshow(gabor, cmap=plt.gray())\n",
    "        ax.set_title(f\"{gabor_type} Gabor filter\")\n",
    "\n",
    "\n",
    "plot_gabor_filters()"
   ]
  },
  {
   "cell_type": "markdown",
   "metadata": {},
   "source": [
    "### Create Gabor filter banks\n",
    "\n",
    "We create a set of Gabor filters that vary in\n",
    "\n",
    "- the type of Gabor (sine or cosine)\n",
    "- $\\omega$\n",
    "- $\\theta$"
   ]
  },
  {
   "cell_type": "code",
   "execution_count": null,
   "metadata": {},
   "outputs": [],
   "source": [
    "def create_gabor_filter_banks(\n",
    "    omegas: Iterable[float] = np.arange(0.02, 0.42, 0.1),\n",
    "    thetas: Iterable[float] = np.arange(0, np.pi, np.pi / 4)\n",
    ") -> dict[str, list[np.ndarray]]:\n",
    "    \"\"\"Create Gabor filter banks of both sine and cosine Gabors at various values of omega and theta.\n",
    "\n",
    "    Args:\n",
    "        omegas: possible values of omega, defaults to np.arange(0.02, 0.42, 0.1)\n",
    "        thetas: possible values of theta, defaults to np.arange(0, np.pi, np.pi / 4)\n",
    "\n",
    "    Returns:\n",
    "        Gabor filter banks\n",
    "    \"\"\"\n",
    "    gabor_types = (\"cosine\", \"sine\")\n",
    "\n",
    "    filter_banks = {gabor_type: [] for gabor_type in gabor_types}\n",
    "\n",
    "    for omega in omegas:\n",
    "        for theta in thetas:\n",
    "            for gabor_type in gabor_types:\n",
    "                filter_banks[gabor_type].append(\n",
    "                    create_gabor(\n",
    "                        size=(128, 128),\n",
    "                        omega=omega,\n",
    "                        theta=theta,\n",
    "                        gabor_type=gabor_type\n",
    "                    )\n",
    "                )\n",
    "    return filter_banks\n",
    "\n",
    "\n",
    "def plot_filter_bank(\n",
    "    filter_bank: Collection[np.ndarray],\n",
    "    omegas: Iterable[float] = np.arange(0.02, 0.42, 0.1),\n",
    "    thetas: Iterable[float] = np.arange(0, np.pi, np.pi / 4)\n",
    ") -> mpl.figure.Figure:\n",
    "    \"\"\"Plot all 16 Gabor filters in each filter bank.\"\"\"\n",
    "    fig, axes = plt.subplots(nrows=len(thetas), ncols=len(omegas), figsize=(10, 10))\n",
    "    for filter, ax, (omega, theta) in zip(filter_bank, axes.flat, itertools.product(omegas, thetas)):\n",
    "        ax.imshow(filter)\n",
    "        ax.axis(\"off\")\n",
    "        ax.set_title(f\"$\\omega$={omega:.2f}, $\\\\theta$={theta:.2f}\")\n",
    "    fig.tight_layout()\n",
    "    return fig\n",
    "\n",
    "\n",
    "filter_banks = create_gabor_filter_banks()\n",
    "\n",
    "for gabor_type, filter_bank in filter_banks.items():\n",
    "    plot_filter_bank(filter_bank=filter_bank)"
   ]
  },
  {
   "cell_type": "markdown",
   "metadata": {},
   "source": [
    "### Demo: Gaussian, Laplacian of Gaussian"
   ]
  },
  {
   "cell_type": "code",
   "execution_count": null,
   "metadata": {},
   "outputs": [],
   "source": [
    "def plot_gaussian_and_derivatives():\n",
    "    sigma = 20\n",
    "    [X, Y] = np.meshgrid(np.arange(-100, 101), np.arange(-100, 101))\n",
    "    Z = 1 / (np.sqrt(2 * np.pi) * sigma) * np.exp(-(X**2 + Y**2)/(2 * sigma**2))\n",
    "\n",
    "    dx = np.roll(Z, 1, axis=1) - Z\n",
    "    dx2 = np.roll(dx, 1, axis=1) - dx\n",
    "\n",
    "    dy = np.roll(Z, 1, axis=0) - Z\n",
    "    dy2 = np.roll(dy, 1, axis=0) - dy\n",
    "\n",
    "    LoG = -(dx2 + dy2)\n",
    "\n",
    "    ax = surf(X, Y, Z, alpha=0.3)\n",
    "    ax.set_title('Gaussian')\n",
    "\n",
    "    ax = surf(X, Y, dx + dy, alpha=0.3)\n",
    "    ax.set_title('First order derivative')\n",
    "\n",
    "    ax = surf(X, Y, LoG, alpha=0.3)\n",
    "    ax.set_title('Second order derivative (Laplacian of Gaussian)')\n",
    "\n",
    "\n",
    "plot_gaussian_and_derivatives()"
   ]
  },
  {
   "cell_type": "markdown",
   "metadata": {},
   "source": [
    "## Homework 1"
   ]
  },
  {
   "cell_type": "markdown",
   "metadata": {},
   "source": [
    "### Question 4.1\n",
    "\n",
    "- Apply Gabor filters to the zebra image. Note: You can use either the filters provided in the `filter_banks` dictionary (which are sufficient for this question) or create your own!\n",
    "- Adjust the frequency and orientation of the Gabors to find the horizontal and vertical stripes: **12, 14**.\n",
    "- Plot the output. (3 points) Note: We only need to see images of filtered zebras, though images of the filters themselves (and their parameters) are welcome.\n",
    "- Can you also find Gabors that respond to the legs? (3 points) Note: we mean the vertical legs themselves, not the thin horizontal stripes on the legs! **4**\n",
    "\n",
    "[See here](https://scikit-image.org/docs/dev/auto_examples/features_detection/plot_gabor.html) for examples of filters applied to texture processing!\n",
    "\n",
    "(Image credits: \"Zebra running Ngorongoro\" by Muhammad Mahdi Karim (data/zebra.jpg))"
   ]
  },
  {
   "cell_type": "markdown",
   "metadata": {},
   "source": [
    "## Answers"
   ]
  },
  {
   "cell_type": "code",
   "execution_count": null,
   "metadata": {},
   "outputs": [],
   "source": [
    "plotdir = \"plots/\""
   ]
  },
  {
   "cell_type": "code",
   "execution_count": null,
   "metadata": {},
   "outputs": [],
   "source": [
    "def apply_gabors_to_zebra(type: Iterable[str] = (\"sine\",\"sine\",\"sine\",\"cosine\"), indices: Iterable[int] = (2, 6, 10, 14)):\n",
    "    zebra = rgb2gray(plt.imread(\"data/zebra.jpg\"))\n",
    "\n",
    "    fig, ax = plt.subplots(len(indices)+1, 2, figsize=(7, 3*(len(indices)+1)), gridspec_kw={'width_ratios': [1, 4], 'wspace': 0})\n",
    "    ax[0,1].imshow(zebra, cmap='gray')\n",
    "    ax[0,1].axis(\"off\")\n",
    "    ax[0,1].set_title(\"original zebra\")\n",
    "    ax[0,0].axis(\"off\")\n",
    "\n",
    "    for t,i in enumerate(indices):\n",
    "        gabor = filter_banks[type[t]][i]\n",
    "        ax[t+1,0].imshow(gabor)\n",
    "        ax[t+1,0].set_title(f\"Gabor filter ({type[t]} #{i})\")\n",
    "        \n",
    "\n",
    "        gabor_filtered_zebra = convolve2d(zebra, gabor, mode=\"valid\")  # Will take about one minute\n",
    "        ax[t+1,1].imshow(gabor_filtered_zebra, cmap='gray')\n",
    "        ax[t+1,1].set_title(f\"Gabor-filtered zebra ({type[t]} #{i})\")\n",
    "\n",
    "        ax[t+1,0].axis(\"off\")\n",
    "        ax[t+1,1].axis(\"off\")\n",
    "        ax[t+1,1].set_xlim(0 - (zebra.shape[1]-gabor_filtered_zebra.shape[1])/2, gabor_filtered_zebra.shape[1] + (zebra.shape[1]-gabor_filtered_zebra.shape[1])/2)\n",
    "        ax[t+1,1].set_ylim(gabor_filtered_zebra.shape[0] + (zebra.shape[0]-gabor_filtered_zebra.shape[0])/2, 0 - (zebra.shape[0]-gabor_filtered_zebra.shape[0])/2)"
   ]
  },
  {
   "cell_type": "code",
   "execution_count": null,
   "metadata": {},
   "outputs": [],
   "source": [
    "apply_gabors_to_zebra(type=[\"sine\",\"sine\",\"cosine\"], indices=(12,14,4))\n",
    "plt.savefig(plotdir+\"gabor_filtered_zebra.png\", dpi=300, bbox_inches='tight')"
   ]
  },
  {
   "cell_type": "markdown",
   "metadata": {},
   "source": [
    "### Question 4.2: Quadrature pair, simple/complex cell\n",
    "\n",
    "- Run the following example.\n",
    "- Explain the results of the simple and complex cells when applying them to the stimuli. (4 points)\n",
    "- Does the results match with your expectation?"
   ]
  },
  {
   "cell_type": "code",
   "execution_count": null,
   "metadata": {},
   "outputs": [],
   "source": [
    "def simulate_quadrature_pair():\n",
    "    theta = np.pi\n",
    "\n",
    "    gabors = {\n",
    "        gabor_type: create_gabor(size=(129, 129), omega=0.4, theta=np.pi, gabor_type=gabor_type)\n",
    "        for gabor_type in (\"sine\", \"cosine\")\n",
    "    }\n",
    "\n",
    "    fig, axes = plt.subplots(nrows=1, ncols=2)\n",
    "    for (gabor_type, gabor), ax in zip(gabors.items(), axes.flat):\n",
    "        ax.imshow(gabor, vmin=-0.2, vmax=0.2)\n",
    "        ax.set_title(f\"{gabor_type} Gabor\")\n",
    "        ax.axis(\"off\")\n",
    "\n",
    "\n",
    "    omega = 0.1\n",
    "    theta = np.pi / 4\n",
    "    sinusoid = create_sinusoid(\n",
    "        size=(256, 256),\n",
    "        amplitude=1,\n",
    "        frequency=(omega * np.sin(theta), omega * np.cos(theta)),\n",
    "        phase=0,\n",
    "    )\n",
    "    fig = plot_image(sinusoid)\n",
    "    fig.suptitle(\"stimuli\")\n",
    "\n",
    "\n",
    "    responses = {\n",
    "        gabor_type: convolve2d(sinusoid, gabor, mode=\"valid\")\n",
    "        for gabor_type, gabor in gabors.items()\n",
    "    }\n",
    "    fig, axes = plt.subplots(nrows=1, ncols=3)\n",
    "    axes[0].imshow(responses[\"sine\"], vmin=0)\n",
    "    axes[0].set_title(\"simple (sine Gabor)\")\n",
    "    axes[0].axis(\"off\")\n",
    "    axes[1].imshow(responses[\"cosine\"], vmin=0)\n",
    "    axes[1].set_title(\"simple (cosine Gabor)\")\n",
    "    axes[1].axis(\"off\")\n",
    "    axes[2].imshow(responses[\"sine\"]**2 + responses[\"cosine\"]**2, vmin=0)\n",
    "    axes[2].set_title(\"complex\")\n",
    "    axes[2].axis(\"off\")\n",
    "\n",
    "    fig.suptitle(\"cell responses\")\n",
    "    fig.tight_layout()\n",
    "\n",
    "\n",
    "simulate_quadrature_pair()"
   ]
  },
  {
   "cell_type": "markdown",
   "metadata": {},
   "source": [
    "### Question 4.3: Find the parameters of an unknown Gabor filter\n",
    "\n",
    "Find the tuning curve of an idealized neuron by measuring its response to different sinusoids. (3 points) \n",
    "\n",
    "The neuron is a Gabor function so you need to find its preferred orientation, frequency, and phase. Use equations from [SimpleCellsVisualCortex - The Tuning of Gabor Filters](https://cs.jhu.edu/~ayuille/JHUcourses/ProbabilisticModelsOfVisualCognition2017/Lecture3SimpleCells/SimpleCellsVisualCortex.pdf) if you want."
   ]
  },
  {
   "cell_type": "code",
   "execution_count": null,
   "metadata": {},
   "outputs": [],
   "source": [
    "unknown_gabor = pickle.load(open('data/unknown_gabor.data', 'rb'), encoding='latin1')\n",
    "fig = plot_image(unknown_gabor)\n",
    "fig.suptitle(\"unknown Gabor\")\n",
    "\n",
    "\n",
    "def apply_sinusoid_to_image(\n",
    "    image: np.ndarray,\n",
    "    rho: float = 0,\n",
    "    omega: float = 0.1,\n",
    "    theta: float = np.pi / 3,\n",
    "    plotprint: bool = True\n",
    "):\n",
    "    # You can use sinusoids as stimuli. for example:\n",
    "    sinusoid = create_sinusoid(\n",
    "        size=image.shape,\n",
    "        amplitude=1,\n",
    "        frequency=(omega * np.cos(theta), omega * np.sin(theta)),\n",
    "        phase=rho,\n",
    "    )\n",
    "    response = (sinusoid * image).sum()\n",
    "    if plotprint:\n",
    "        fig = plot_image(sinusoid)\n",
    "        fig.suptitle(\"applied sinusoid\")        \n",
    "        print(f\"response = {response}\")\n",
    "    return response\n",
    "\n",
    "apply_sinusoid_to_image(unknown_gabor)"
   ]
  },
  {
   "cell_type": "markdown",
   "metadata": {},
   "source": [
    "# Answer\n",
    "Iterate over 3D parameter space. "
   ]
  },
  {
   "cell_type": "code",
   "execution_count": null,
   "metadata": {},
   "outputs": [],
   "source": [
    "def extract_tuning_curves_and_peak(\n",
    "        rhos: Iterable[float],\n",
    "        omegas: Iterable[float],\n",
    "        thetas: Iterable[float],\n",
    "        image: np.ndarray = unknown_gabor\n",
    "):\n",
    "    responses = np.zeros((len(rhos), len(omegas), len(thetas)))\n",
    "    for ri, rho in enumerate(rhos):\n",
    "        for oi, omega in enumerate(omegas):\n",
    "            for ti, theta in enumerate(thetas):\n",
    "                responses[ri, oi, ti] = apply_sinusoid_to_image(image, rho=rho, omega=omega, \n",
    "                                                                theta=theta, plotprint=False)\n",
    "    \n",
    "    maxindex = np.unravel_index(np.argmax(responses), responses.shape)\n",
    "    maxima = rhos[maxindex[0]], omegas[maxindex[1]], thetas[maxindex[2]]\n",
    "    print(f\"Maximum response of {responses[maxindex]:.2f} at rho = {np.rad2deg(maxima[0]):.0f}°, omega = {maxima[1]:.2f} cycles/px, theta = {np.rad2deg(maxima[2]):.0f}°\")\n",
    "    return responses, maxindex, maxima"
   ]
  },
  {
   "cell_type": "code",
   "execution_count": null,
   "metadata": {},
   "outputs": [],
   "source": [
    "rhos_for_gabor = np.arange(-np.pi, np.pi + np.pi/4, np.pi / 4)\n",
    "omegas_for_gabor = np.arange(0, 1.2, 0.01)\n",
    "thetas_for_gabor = np.arange(0, np.pi +  np.pi / 36, np.pi / 36)\n",
    "\n",
    "responses_of_gabor, maxindex_of_gabor_response, maxima_of_gabor = extract_tuning_curves_and_peak(\n",
    "    rhos = rhos_for_gabor,\n",
    "    omegas = omegas_for_gabor,\n",
    "    thetas = thetas_for_gabor\n",
    ")"
   ]
  },
  {
   "cell_type": "markdown",
   "metadata": {},
   "source": [
    "# Tuning curves as a function of $\\rho, \\theta$ and $\\omega$"
   ]
  },
  {
   "cell_type": "code",
   "execution_count": null,
   "metadata": {},
   "outputs": [],
   "source": [
    "fig, ax = plt.subplots(1, len(rhos_for_gabor), figsize=(10, 2), gridspec_kw={'wspace':0.5})\n",
    "for ri, rho in enumerate(rhos_for_gabor):\n",
    "    im = ax[ri].imshow(responses_of_gabor[ri, :, :], aspect='auto', extent=(thetas_for_gabor[0], thetas_for_gabor[-1], omegas_for_gabor[-1], omegas_for_gabor[0]), vmin=responses_of_gabor.min(), vmax=responses_of_gabor.max(), cmap = 'RdBu_r')\n",
    "    ax[ri].set_title(f\"$\\\\rho={np.rad2deg(rho):.0f}^\\\\circ$\", fontsize = 10, pad=10)\n",
    "    ax[ri].set_xticks([0, np.pi])\n",
    "    ax[ri].set_xticklabels(['0', r'180'])\n",
    "    ax[ri].set_yticks([0, 0.5, 1]) if ri==0 else ax[ri].set_yticks([])\n",
    "    ax[ri].set_xlabel(r\"$\\theta$ (°)\")\n",
    "    ax[ri].set_ylabel(r\"$\\omega$ (cycles/px)\") if ri==0 else None\n",
    "    if ri==maxindex_of_gabor_response[0]:\n",
    "        ax[ri].plot(maxima_of_gabor[2], maxima_of_gabor[1], 'x', color='white', markersize=4, markeredgewidth=1.5)\n",
    "fig.colorbar(im, ax=ax, orientation='horizontal', fraction=0.04, pad=0.5, label='response')\n",
    "plt.savefig(plotdir+'tuning_curves_for_unknown_gabor.png', dpi=300, bbox_inches='tight')\n",
    "plt.show()"
   ]
  },
  {
   "cell_type": "markdown",
   "metadata": {},
   "source": [
    "### Question 4.4: Find the parameters of an unknown Laplacian of Gaussian\n",
    "\n",
    "Find the parameter $\\sigma$ of a Laplacian of Gaussian filter by measuring its response to different sinusoids. (3 points)\n",
    "\n",
    "Hint: The LoG is radially symmetric and centered, which means that you don't have to optimize over $\\theta$ or $\\rho$.\n",
    "\n",
    "Note: To avoid any aliasing artifacts due to the small size of the image, please use small values of $\\omega$ (e.g. between 0 and 1).\n",
    "\n",
    "Use the equation(s) in [LinearModelsSimpleCells - The Response of a Center-Surround Cell to sinusoids](https://cs.jhu.edu/~ayuille/JHUcourses/ProbabilisticModelsOfVisualCognition2017/Lecture3SimpleCells/SimpleCellsRetina.pdf) if you want."
   ]
  },
  {
   "cell_type": "code",
   "execution_count": null,
   "metadata": {
    "scrolled": true
   },
   "outputs": [],
   "source": [
    "unknown_LoG = pickle.load(open(\"data/unknown_LoG.data\", \"rb\"), encoding=\"latin1\")\n",
    "fig = plot_image(unknown_LoG)\n",
    "fig.suptitle(\"unknown Laplacian of Gaussian\")\n",
    "[X, Y] = np.meshgrid(np.arange(-100, 101), np.arange(-100, 101))\n",
    "ax = surf(X, Y, unknown_LoG, alpha=0.3)\n",
    "ax.set_title(\"unknown Laplacian of Gaussian\")\n",
    "\n",
    "\n",
    "apply_sinusoid_to_image(unknown_LoG)"
   ]
  },
  {
   "cell_type": "markdown",
   "metadata": {},
   "source": [
    "# Answer"
   ]
  },
  {
   "cell_type": "code",
   "execution_count": null,
   "metadata": {},
   "outputs": [],
   "source": [
    "rhos_for_LoG = np.arange(-np.pi, np.pi + np.pi/32, np.pi / 16)\n",
    "omegas_for_LoG = np.arange(0, 1+0.01, 0.01)\n",
    "thetas_for_LoG = [0]\n",
    "correspondingSigmas = np.sqrt(2) / omegas_for_LoG\n",
    "\n",
    "responses_of_LoG, maxindex_of_LoG_response, maxima_of_LoG = extract_tuning_curves_and_peak(\n",
    "    rhos = rhos_for_LoG,\n",
    "    omegas = omegas_for_LoG,\n",
    "    thetas = thetas_for_LoG,\n",
    "    image = unknown_LoG\n",
    ")\n",
    "print(f\"Corresponding sigma = {np.sqrt(2)/maxima_of_LoG[1]:.2f} px\")"
   ]
  },
  {
   "cell_type": "code",
   "execution_count": null,
   "metadata": {},
   "outputs": [],
   "source": [
    "fig, ax = plt.subplots(figsize=(5, 2))\n",
    "im = ax.imshow(responses_of_LoG, aspect='auto', extent=(omegas_for_LoG[0], omegas_for_LoG[-1], rhos_for_LoG[-1], rhos_for_LoG[0]), vmin=responses_of_LoG.min(), vmax=responses_of_LoG.max(), cmap = 'RdBu_r')\n",
    "ax.plot(maxima_of_LoG[1], maxima_of_LoG[0], 'x', color='white', markersize=4, markeredgewidth=1.5);\n",
    "ax_top = ax.twiny()\n",
    "Nticks = 5\n",
    "ax.set_xticks(omegas_for_LoG[::len(omegas_for_LoG)//Nticks])\n",
    "ax_top.set_xticks(omegas_for_LoG[::len(omegas_for_LoG)//Nticks])\n",
    "ax_top.set_xticklabels([f\"{s:.2f}\" for s in correspondingSigmas[::len(correspondingSigmas)//Nticks]])\n",
    "ax.set_yticks([-np.pi, np.pi], labels = [-180, 180])\n",
    "ax_top.set_xlabel(r\"corresponding $\\sigma$ (px)\")\n",
    "ax.set_xlabel(r\"$\\omega$ (cycles/px)\")\n",
    "ax.set_ylabel(r\"$\\rho$ (°)\");\n",
    "plt.colorbar(im, ax=ax, orientation='vertical', fraction=0.025, pad=0.05, label='response');\n",
    "plt.savefig(plotdir+'tuning_curves_for_unknown_LoG.png', dpi=300, bbox_inches='tight')"
   ]
  },
  {
   "cell_type": "code",
   "execution_count": null,
   "metadata": {},
   "outputs": [],
   "source": []
  },
  {
   "cell_type": "code",
   "execution_count": null,
   "metadata": {},
   "outputs": [],
   "source": []
  }
 ],
 "metadata": {
  "anaconda-cloud": {},
  "kernelspec": {
   "display_name": "homework",
   "language": "python",
   "name": "python3"
  },
  "language_info": {
   "codemirror_mode": {
    "name": "ipython",
    "version": 3
   },
   "file_extension": ".py",
   "mimetype": "text/x-python",
   "name": "python",
   "nbconvert_exporter": "python",
   "pygments_lexer": "ipython3",
   "version": "3.13.7"
  }
 },
 "nbformat": 4,
 "nbformat_minor": 1
}
